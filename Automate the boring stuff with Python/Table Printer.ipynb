{
 "cells": [
  {
   "cell_type": "code",
   "execution_count": 8,
   "metadata": {},
   "outputs": [
    {
     "name": "stdout",
     "output_type": "stream",
     "text": [
      "  apples Alice  dogs \n",
      " oranges   Bob  cats \n",
      "cherries Carol moose \n",
      "  banana David goose \n"
     ]
    }
   ],
   "source": [
    "\"\"\"\n",
    "Table Printer\n",
    "\n",
    "Write a function named printTable() that takes a list of lists of strings and displays it in a well-organized table\n",
    "with each column right-justified. Assume that all the inner lists will contain the same number of strings. For \n",
    "example, the value could look like this:\n",
    "\n",
    "            tableData= [['apples', 'oranges', 'cherries', 'banana'],\n",
    "                        ['Alice', 'Bob', 'Carol', 'David'],\n",
    "                        ['dogs', 'cats', 'moose', 'goose']]\n",
    "                        \n",
    "Your printTable() function would print the following:\n",
    "\n",
    "                apples Alice  dogs\n",
    "               oranges   Bob  cats\n",
    "              cherries Carol moose\n",
    "                banana David goose\n",
    "                \n",
    "Hint: Your code will first have to find the longest string in each of the inner lists so that the whole column can\n",
    "be wide enough to fit all the strings. You can store the maximum width of each column as a list of integers. The \n",
    "printTable() function can begin with colWidths = [0] * len(tableData), which will create a list containing the \n",
    "same number of 0 values as the number of inner lists in tableData. That way, colWidths[0] can store the width of \n",
    "the longest string in tableData[0], colWidths[1] can store the width of the lon- gest string in tableData[1], and \n",
    "so on. You can then find the largest value in the colWidths list to find out what integer width to pass to the \n",
    "rjust() string method.\n",
    "\n",
    "\"\"\"\n",
    "\n",
    "def printTable(tableData):\n",
    "    colWidths = [0]*len(tableData)\n",
    "    \n",
    "    for i in range(len(tableData)):\n",
    "        for j in range(len(tableData[i])):\n",
    "            if len(tableData[i][j]) > colWidths[i]:\n",
    "                colWidths[i] = len(tableData[i][j])\n",
    "    \n",
    "    x = 0  \n",
    "    while x < len(tableData[0]):\n",
    "        y = 0\n",
    "        while y < len(tableData):\n",
    "            print(tableData[y][x].rjust(colWidths[y]), end=' ')\n",
    "            y += 1\n",
    "        print('')\n",
    "        x += 1\n",
    "\n",
    "tableData= [['apples', 'oranges', 'cherries', 'banana'],\n",
    "            ['Alice', 'Bob', 'Carol', 'David'],\n",
    "            ['dogs', 'cats', 'moose', 'goose']]\n",
    "\n",
    "printTable(tableData)"
   ]
  },
  {
   "cell_type": "code",
   "execution_count": 9,
   "metadata": {},
   "outputs": [
    {
     "name": "stdout",
     "output_type": "stream",
     "text": [
      "  apples Alice  dogs \n",
      " oranges   Bob  cats \n",
      "cherries Carol moose \n",
      "  banana David goose \n"
     ]
    }
   ],
   "source": [
    "\n",
    "\n",
    "\n",
    "def printTable(inputList):\n",
    "    # initialize the list \"colWidths\" with zeroes equal to the length of the input list\n",
    "    colWidths = [0] * len(inputList)\n",
    "    \n",
    "\n",
    "    # iterate over the input list to find the longest word in each inner list\n",
    "    # if its larger than the current value, set it as the new value\n",
    "    for i in range(len(inputList)):\n",
    "\t    for j in range(len(inputList[i])):\n",
    "\t\t    if len(inputList[i][j]) > colWidths[i]:\n",
    "\t\t\t    colWidths[i] = len(inputList[i][j])\n",
    "\n",
    "    # assuming each inner list is the same length as the first, iterate over the input list\n",
    "    # printing the x value from each inner list, right justifed to its corresponding value\n",
    "    # in colWidths\n",
    "    for x in range(len(inputList[0])):\n",
    "\t    for y in range(len(inputList)):\n",
    "\t\t    print(inputList[y][x].rjust(colWidths[y]), end = ' ')\n",
    "\t    print('')\n",
    "\n",
    "tableData= [['apples', 'oranges', 'cherries', 'banana'],\n",
    "            ['Alice', 'Bob', 'Carol', 'David'],\n",
    "            ['dogs', 'cats', 'moose', 'goose']]\n",
    "\n",
    "printTable(tableData)\n",
    "        "
   ]
  },
  {
   "cell_type": "code",
   "execution_count": null,
   "metadata": {},
   "outputs": [],
   "source": []
  }
 ],
 "metadata": {
  "kernelspec": {
   "display_name": "Python 3",
   "language": "python",
   "name": "python3"
  },
  "language_info": {
   "codemirror_mode": {
    "name": "ipython",
    "version": 3
   },
   "file_extension": ".py",
   "mimetype": "text/x-python",
   "name": "python",
   "nbconvert_exporter": "python",
   "pygments_lexer": "ipython3",
   "version": "3.6.4"
  }
 },
 "nbformat": 4,
 "nbformat_minor": 2
}
