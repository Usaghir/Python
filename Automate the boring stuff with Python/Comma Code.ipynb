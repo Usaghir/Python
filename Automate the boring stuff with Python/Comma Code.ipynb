{
 "cells": [
  {
   "cell_type": "code",
   "execution_count": 59,
   "metadata": {},
   "outputs": [
    {
     "name": "stdout",
     "output_type": "stream",
     "text": [
      "apples, bananas, tofu, and cats\n",
      "1, 2, 3, and 4\n",
      "apples, bananas, 3, and 4.3\n",
      "apples, True, [1, 2, 3, 4], and 4\n"
     ]
    }
   ],
   "source": [
    "\"\"\"\n",
    "Comma Code\n",
    "\n",
    "Say you have a list value like this:\n",
    "\n",
    "spam = ['apples', 'bananas', 'tofu', 'cats']\n",
    "\n",
    "Write a function that takes a list value as an argument and returns a string with all the items separated by a comma\n",
    "and a space, with and inserted before the last item. \n",
    "\n",
    "For example, passing the previous spam list to the function would return \n",
    "\n",
    "'apples, bananas, tofu, and cats'\n",
    "\n",
    "But your func- tion should be able to work with any list value passed to it.\n",
    "\"\"\"\n",
    "\n",
    "def comma_code(str_list):\n",
    "    last_item_str = 'and '+ str(str_list.pop())\n",
    "    other_than_last_str = []\n",
    "    \n",
    "    for items in str_list:\n",
    "        other_than_last_str.append(str(items))\n",
    " \n",
    "    comma_str = \", \".join([\", \".join(other_than_last_str),last_item_str])\n",
    "    return comma_str\n",
    "\n",
    "# Test1 for Strings\n",
    "spam = ['apples', 'bananas', 'tofu', 'cats']\n",
    "print(comma_code(spam))\n",
    "\n",
    "# Test1 for ints\n",
    "spam = [1, 2, 3, 4]\n",
    "print(comma_code(spam))\n",
    "\n",
    "# Test1 for mix\n",
    "spam = ['apples', 'bananas', 3, 4.3]\n",
    "print(comma_code(spam))\n",
    "\n",
    "# Test1 for mix\n",
    "spam = ['apples', True, [1, 2, 3, 4], 4]\n",
    "print(comma_code(spam))    "
   ]
  },
  {
   "cell_type": "code",
   "execution_count": null,
   "metadata": {},
   "outputs": [],
   "source": []
  }
 ],
 "metadata": {
  "kernelspec": {
   "display_name": "Python 3",
   "language": "python",
   "name": "python3"
  },
  "language_info": {
   "codemirror_mode": {
    "name": "ipython",
    "version": 3
   },
   "file_extension": ".py",
   "mimetype": "text/x-python",
   "name": "python",
   "nbconvert_exporter": "python",
   "pygments_lexer": "ipython3",
   "version": "3.6.4"
  }
 },
 "nbformat": 4,
 "nbformat_minor": 2
}
