{
 "cells": [
  {
   "cell_type": "code",
   "execution_count": 8,
   "metadata": {},
   "outputs": [
    {
     "name": "stdout",
     "output_type": "stream",
     "text": [
      "..OO.OO..\n",
      "\n",
      ".OOOOOOO.\n",
      "\n",
      ".OOOOOOO.\n",
      "\n",
      "..OOOOO..\n",
      "\n",
      "...OOO...\n",
      "\n",
      "....O....\n",
      "\n"
     ]
    }
   ],
   "source": [
    "\"\"\"Character Picture Grid\n",
    "\n",
    "Say you have a list of lists where each value in the inner lists is a one-character string, like this:\n",
    "\n",
    "grid = [['.', '.', '.', '.', '.', '.'],\n",
    "        ['.', 'O', 'O', '.', '.', '.'],\n",
    "        ['O', 'O', 'O', 'O', '.', '.'],\n",
    "        ['O', 'O', 'O', 'O', 'O', '.'],\n",
    "        ['.', 'O', 'O', 'O', 'O', 'O'],\n",
    "        ['O', 'O', 'O', 'O', 'O', '.'],\n",
    "        ['O', 'O', 'O', 'O', '.', '.'],\n",
    "        ['.', 'O', 'O', '.', '.', '.'],\n",
    "        ['.', '.', '.', '.', '.', '.']]\n",
    "        \n",
    "You can think of grid[x][y] as being the character at the x- and y-coordinates of a “picture” drawn with text \n",
    "characters. The (0, 0) origin will be in the upper-left corner, the x-coordinates increase going right, and the \n",
    "y-coordinates increase going down.\n",
    "\n",
    "Copy the previous grid value, and write code that uses it to print the image.\n",
    "\n",
    "..OO.OO..\n",
    ".OOOOOOO.\n",
    ".OOOOOOO.\n",
    "..OOOOO..\n",
    "...OOO...\n",
    "....O....\n",
    "\n",
    "Hint: You will need to use a loop in a loop in order to print grid[0][0], then grid[1][0], then grid[2][0], and so\n",
    "on, up to grid[8][0]. This will fin- ish the first row, so then print a newline. Then your program should print \n",
    "grid[0][1], then grid[1][1], then grid[2][1], and so on. The last thing your program will print is grid[8][5].\n",
    "Also, remember to pass the end keyword argument to print() if you don’t want a newline printed automatically after\n",
    "each print() call.\n",
    "\"\"\"\n",
    "grid = [['.', '.', '.', '.', '.', '.'],\n",
    "        ['.', 'O', 'O', '.', '.', '.'],\n",
    "        ['O', 'O', 'O', 'O', '.', '.'],\n",
    "        ['O', 'O', 'O', 'O', 'O', '.'],\n",
    "        ['.', 'O', 'O', 'O', 'O', 'O'],\n",
    "        ['O', 'O', 'O', 'O', 'O', '.'],\n",
    "        ['O', 'O', 'O', 'O', '.', '.'],\n",
    "        ['.', 'O', 'O', '.', '.', '.'],\n",
    "        ['.', '.', '.', '.', '.', '.']]\n",
    "\n",
    "cols = 0\n",
    "while cols < len(grid[cols]):\n",
    "    rows = 0\n",
    "    while rows < len(grid):\n",
    "        \n",
    "        print(grid[rows][cols],end = '')\n",
    "        \n",
    "        rows+=1\n",
    "    print('\\n')\n",
    "    cols+=1\n",
    "        "
   ]
  },
  {
   "cell_type": "code",
   "execution_count": null,
   "metadata": {},
   "outputs": [],
   "source": []
  }
 ],
 "metadata": {
  "kernelspec": {
   "display_name": "Python 3",
   "language": "python",
   "name": "python3"
  },
  "language_info": {
   "codemirror_mode": {
    "name": "ipython",
    "version": 3
   },
   "file_extension": ".py",
   "mimetype": "text/x-python",
   "name": "python",
   "nbconvert_exporter": "python",
   "pygments_lexer": "ipython3",
   "version": "3.6.4"
  }
 },
 "nbformat": 4,
 "nbformat_minor": 2
}
