{
 "cells": [
  {
   "cell_type": "code",
   "execution_count": 17,
   "metadata": {},
   "outputs": [
    {
     "name": "stdout",
     "output_type": "stream",
     "text": [
      "Inventory:\n",
      "1 rope\n",
      "6 torch\n",
      "42 gold coin\n",
      "1 dagger\n",
      "12 arrow\n",
      "Total number of items: 62\n"
     ]
    }
   ],
   "source": [
    "\"\"\"\n",
    "Fantasy Game Inventory\n",
    "\n",
    "You are creating a fantasy video game. The data structure to model the player’s inventory will be a dictionary \n",
    "where the keys are string values describing the item in the inventory and the value is an integer value detailing\n",
    "how many of that item the player has. For example,\n",
    "\n",
    "the dictionary value {'rope': 1, 'torch': 6, 'gold coin': 42, 'dagger': 1, 'arrow': 12} means the player has 1 rope\n",
    ", 6 torches, 42 gold coins, and so on.\n",
    "\n",
    "Write a function named displayInventory() that would take any possible “inventory” and display it like the following:\n",
    "\n",
    "Inventory:\n",
    "\n",
    "12 arrow\n",
    "42 gold coin\n",
    "1 rope\n",
    "6 torch\n",
    "1 dagger\n",
    "Total number of items: 62\n",
    "\n",
    "Hint: You can use a for loop to loop through all the keys in a dictionary. # inventory.py\n",
    "stuff = {'rope': 1, 'torch': 6, 'gold coin': 42, 'dagger': 1, 'arrow': 12}\n",
    "\n",
    "def displayInventory(inventory):\n",
    "    print(\"Inventory:\")\n",
    "    item_total = 0\n",
    "    for k, v in inventory.items():\n",
    "    \n",
    "        # FILL THIS PART IN\n",
    "    print(\"Total number of items: \" + str(item_total))\n",
    "displayInventory(stuff)\n",
    "\"\"\"\n",
    "\n",
    "def displayInventory(inventory):\n",
    "    print(\"Inventory:\")\n",
    "    item_total = 0\n",
    "    for k, v in inventory.items():\n",
    "        print(f'{v} {k}')\n",
    "        item_total += v\n",
    "        \n",
    "    print(\"Total number of items: \" + str(item_total))\n",
    "stuff = {'rope': 1, 'torch': 6, 'gold coin': 42, 'dagger': 1, 'arrow': 12}    \n",
    "displayInventory(stuff)"
   ]
  },
  {
   "cell_type": "code",
   "execution_count": 30,
   "metadata": {},
   "outputs": [
    {
     "name": "stdout",
     "output_type": "stream",
     "text": [
      "Inventory:\n",
      "45 gold coin\n",
      "1 rope\n",
      "1 dagger\n",
      "2 ruby\n",
      "Total number of items: 49\n"
     ]
    }
   ],
   "source": [
    "\"\"\"\n",
    "List to Dictionary Function for Fantasy Game Inventory\n",
    "\n",
    "Imagine that a vanquished dragon’s loot is represented as a list of strings like this:\n",
    "\n",
    "dragonLoot = ['gold coin', 'dagger', 'gold coin', 'gold coin', 'ruby']\n",
    "\n",
    "Write a function named addToInventory(inventory, addedItems), where the inventory parameter is a dictionary \n",
    "representing the player’s inventory (like in the previous project) and the addedItems parameter is a list like \n",
    "dragonLoot. The addToInventory() function should return a dictionary that represents the updated inventory.\n",
    "\n",
    "Note that the addedItems list can contain multiples of the same item. Your code could look something like this:\n",
    "\n",
    "def addToInventory(inventory, addedItems):\n",
    "    # your code goes here\n",
    "inv = {'gold coin': 42, 'rope': 1}\n",
    "dragonLoot = ['gold coin', 'dagger', 'gold coin', 'gold coin', 'ruby']\n",
    "inv = addToInventory(inv, dragonLoot)\n",
    "displayInventory(inv)\n",
    "        \n",
    "The previous program (with your displayInventory() function from the previous project) would output the following:\n",
    "\n",
    "Inventory:\n",
    "\n",
    "45 gold coin\n",
    "1 rope\n",
    "1 ruby\n",
    "1 dagger\n",
    "\n",
    "Total number of items: 48\"\"\"\n",
    "\n",
    "\n",
    "def addToInventory(inventory, addedItems):\n",
    "    \n",
    "    for items in addedItems:\n",
    "        if items in inventory:\n",
    "            inventory[items] += 1\n",
    "        else:    \n",
    "            inventory.update({items:1})\n",
    "    return inventory\n",
    "\n",
    "\n",
    "inventory = {'gold coin': 42, 'rope': 1}\n",
    "addedItems = ['gold coin', 'dagger', 'gold coin', 'gold coin', 'ruby', 'ruby']\n",
    "displayInventory(addToInventory(inventory, addedItems))\n",
    "                "
   ]
  },
  {
   "cell_type": "code",
   "execution_count": null,
   "metadata": {},
   "outputs": [],
   "source": []
  },
  {
   "cell_type": "code",
   "execution_count": null,
   "metadata": {},
   "outputs": [],
   "source": []
  },
  {
   "cell_type": "code",
   "execution_count": null,
   "metadata": {},
   "outputs": [],
   "source": []
  }
 ],
 "metadata": {
  "kernelspec": {
   "display_name": "Python 3",
   "language": "python",
   "name": "python3"
  },
  "language_info": {
   "codemirror_mode": {
    "name": "ipython",
    "version": 3
   },
   "file_extension": ".py",
   "mimetype": "text/x-python",
   "name": "python",
   "nbconvert_exporter": "python",
   "pygments_lexer": "ipython3",
   "version": "3.6.4"
  }
 },
 "nbformat": 4,
 "nbformat_minor": 2
}
